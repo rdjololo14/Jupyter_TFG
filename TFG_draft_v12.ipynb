{
 "cells": [
  {
   "cell_type": "code",
   "execution_count": 196,
   "metadata": {},
   "outputs": [],
   "source": [
    "################################\n",
    "### Imports\n",
    "################################\n",
    "import math\n",
    "import numpy as np\n",
    "import pandas as pd\n",
    "import matplotlib.pyplot as plt\n",
    "import random \n",
    "from numpy import arange\n",
    "from scipy.stats import chisquare"
   ]
  },
  {
   "cell_type": "code",
   "execution_count": 197,
   "metadata": {},
   "outputs": [],
   "source": [
    "##############################################\n",
    "### Función Aleatoria para la Fuerza Browniana\n",
    "##############################################\n",
    "# Random Func entre 1 y -1 \n",
    "# Semilla y aleatorizar \n",
    "def rand_betw_1_neg1():\n",
    "    return random.random() * 2 - 1"
   ]
  },
  {
   "cell_type": "code",
   "execution_count": 198,
   "metadata": {},
   "outputs": [],
   "source": [
    "################################\n",
    "### Imports\n",
    "################################\n",
    "## DESCOMENTAR PARA TEST ALEATORIEDAD!!!!\n",
    "rand_test_list = list() # Array que almacenará las variables aleatorias que usaremos para el histograma\n",
    "\n",
    "## Para el test de aleatoriedad tomamos 10 millones de valores 10*1000*1000\n",
    "## DESCOMENTAR PARA TEST ALEATORIEDAD!!!!\n",
    "# for j in range(1,10*1000*1000):  \n",
    "#     rand_test_list.append(round(10 * rand_betw_1_neg1())) # multiplicamos por 10 para el histograma\n",
    "\n",
    "## Valores distintos y Conteos\n",
    "## DESCOMENTAR PARA TEST ALEATORIEDAD!!!!\n",
    "# unique_elements, counts_elements = np.unique(rand_test_list, return_counts=True)\n",
    "# print(unique_elements, counts_elements)\n",
    "\n",
    "## Imp Como Los valores pertenecen al intervalo [-1,1] y están redondeados, no tenemos \n",
    "## p.e 1.2, 1.4, -1.3, -1.2... Si el comportamiento es realmente aleatorio\n",
    "## las frecuencias de los extremos serán aproximadamente la mitad\n",
    "## DESCOMENTAR PARA TEST ALEATORIEDAD!!!!\n",
    "# plt.hist(rand_test_list, bins=np.shape(unique_elements)[0])\n",
    "# plt.show()"
   ]
  },
  {
   "cell_type": "code",
   "execution_count": 261,
   "metadata": {},
   "outputs": [],
   "source": [
    "################################\n",
    "### Escala de Tiempos\n",
    "################################\n",
    "t_i = 0    # Inicio\n",
    "t_f = 1.0   # Fin\n",
    "# IMP tener en cuenta el tempo característico\n",
    "# dt = 1.0e-04  # Paso o incremento de tiempo\n",
    "dt = 1.0e-04\n",
    "t = arange(t_i, t_f, dt)  # Array con todos los instantes de tiempo"
   ]
  },
  {
   "cell_type": "code",
   "execution_count": 246,
   "metadata": {},
   "outputs": [],
   "source": [
    "###############################################################\n",
    "### Constantes Físicas Universales y Condiciones de Laboratorio\n",
    "###############################################################\n",
    "# Temperatura SI (K)\n",
    "T = 299.5\n",
    "# Aceleración de la Gravedad SI (m/s^2)\n",
    "g = 9.78\n",
    "# Viscosidad Agua a 300K  SI ( kg/(m·s) ) - η = 0.95 mPa.s\n",
    "eta = 0.95e-3\n",
    "# Constante de Boltzmann SI (J·K^-1)\n",
    "k_b = 1.380649e-23 \n",
    "# IMP γ = 6πηa  ES 2d --> Como en la fuerza browniana!!!!\n"
   ]
  },
  {
   "cell_type": "code",
   "execution_count": 247,
   "metadata": {},
   "outputs": [
    {
     "name": "stdout",
     "output_type": "stream",
     "text": [
      "masa partícula kg -->  3.9674126424634294e-15\n",
      "gamma -->  1.1938052083641212e-08\n",
      "D -->  3.4637508079448543e-13\n",
      "Tau -->  11.548174859534189 s\n"
     ]
    }
   ],
   "source": [
    "###################################\n",
    "### Parámetros Iniciales Brownianos\n",
    "###################################\n",
    "# Densidad Del Agua --> rho_w SI kg/m^3\n",
    "rho_w = 997     \n",
    "# Densidad De La Partícula\n",
    "rho_p = 0.95 * rho_w      \n",
    "# Radio de la partícula SI (m)\n",
    "a = 1.0e-06   # To-Do a = [0.5e-06, 1.0e-06, 2.0e-06, 4.0e-06]\n",
    "# Volumen de la partícula SI\n",
    "V_p = 4.0/3.0 * math.pi * a**3\n",
    "##\n",
    "# V_p_ls = list()\n",
    "# m_p_ls = list()\n",
    "# for j in a:\n",
    "#     V_p_ls.append(4.0/3.0 * math.pi * j**3)\n",
    "# Masa de la Partícula\n",
    "m = rho_p * V_p\n",
    "print('masa partícula kg --> ',m)\n",
    "# Coeficiente de Fricción --> Valor típico gamma = 9.42e-12 m\n",
    "gamma = 4 * math.pi * eta * a   \n",
    "# gamma = 0.7\n",
    "print('gamma --> ',gamma)\n",
    "\n",
    "# Franja donde se contiene la partícula\n",
    "l_inf = -50*1e-06\n",
    "l_sup = 50*1e-06\n",
    "\n",
    "# Nuestro valor calculado en SI\n",
    "D = k_b * T/gamma  # 0.46 micras cuadradas /s (agua) \n",
    "\n",
    "print('D --> ', D)\n",
    "\n",
    "tau = ((2*a)**2)/D\n",
    "print('Tau --> ' ,tau,'s')\n",
    "# dt = tau/1e3\n",
    "\n",
    "# kappa --> TEMP Constante de esferas duras\n",
    "kappa = 1.0e-06\n",
    "# Separación del origen con las paredes (Las paredes están separadas 100 micras)\n",
    "z0 = 1/2 * 100*1e-06\n",
    "\n"
   ]
  },
  {
   "cell_type": "code",
   "execution_count": 248,
   "metadata": {},
   "outputs": [
    {
     "name": "stdout",
     "output_type": "stream",
     "text": [
      "9.872873543065068e-25\n",
      "-0.1511635740518944\n"
     ]
    }
   ],
   "source": [
    "print(2.0*k_b*T*gamma/dt)\n",
    "n = rand_betw_1_neg1()\n",
    "print(n)"
   ]
  },
  {
   "cell_type": "code",
   "execution_count": 249,
   "metadata": {},
   "outputs": [],
   "source": [
    "# CI Condiciones Iniciales Partícula (x,v)\n",
    "# Partícula Parada y en el Origen\n",
    "x0 = 0.0\n",
    "v0 = 0.0 "
   ]
  },
  {
   "cell_type": "code",
   "execution_count": 256,
   "metadata": {},
   "outputs": [],
   "source": [
    "######################################################\n",
    "### Fuerzas Involucradas: F = F_h + F_g + F_b + F_a \n",
    "######################################################\n",
    "# F_h - Fuerza Hidrodinámica\n",
    "def F_h(v):\n",
    "#     print('Valor que le paso a v --> ', v)\n",
    "# return - gamma * v\n",
    "    return - gamma * v/1e06\n",
    "\n",
    "# F_g - Fuerza De La Gravedad\n",
    "def F_g():\n",
    "    return  - m * g\n",
    "\n",
    "# Brownian Stochastic Force - Fuerza Estocástica\n",
    "# Imp \n",
    "def F_b(t):\n",
    "    n = rand_betw_1_neg1()\n",
    "    return math.sqrt(2.0*k_b*T*gamma/dt) * n * 1\n",
    "\n",
    "# F_a - Fuerza de Arquímedes\n",
    "# Fuerza igual al peso del volumen desalojado --> Va hacia arriba por lo que es +\n",
    "def F_a():\n",
    "    return rho_w * V_p * g \n"
   ]
  },
  {
   "cell_type": "code",
   "execution_count": 257,
   "metadata": {},
   "outputs": [],
   "source": [
    "##########################################################\n",
    "### Ecuación de Langevin\n",
    "##########################################################\n",
    "def Langevin(var_v, var_t):\n",
    "    # Debug\n",
    "#     print('velocidad', 'F_h/m', 'F_a/m','F_g/m','F_b/m')\n",
    "#     print('vel -->', var_v, 'Aceleraciones -->',  F_h(var_v)/m ,  F_a()/m , F_g() / m , F_b(var_t)/m)\n",
    "    return (F_b(var_t) + F_h(var_v)+ F_a() + F_g()) / m  "
   ]
  },
  {
   "cell_type": "code",
   "execution_count": 258,
   "metadata": {},
   "outputs": [],
   "source": [
    "##########################################################\n",
    "### Método Para Resolver EDO de Euler\n",
    "##########################################################\n",
    "def odeEuler(f, v_vel0, v_x0, t):\n",
    "    '''Aproximamos la solución de y'=f(y,t) por el método de Euler\n",
    "\n",
    "    Parameters\n",
    "    ----------\n",
    "    f : function  y'=f(t,y), y(t_0)=y_0\n",
    "    v_vel0 : valor inicial y(t0)=y0 t0 index 0 in the array t\n",
    "    t : array El time step viene dado por t[n+1] - t[n].\n",
    "\n",
    "    Returns\n",
    "    -------\n",
    "    y : 1D NumPy array\n",
    "        Approximation y[n] of the solution y(t_n) computed by Euler's method.\n",
    "    '''\n",
    "    v_vel = np.zeros(len(t))\n",
    "    v_x = np.zeros(len(t))\n",
    "    \n",
    "    v_vel[0] = v_vel0\n",
    "    v_x[0] = v_x0\n",
    "    for n in range(0,len(t)-1):\n",
    "        acel =  f(v_vel[n], t[n])  # <--- POSIBLE FUENTE DE ERROR\n",
    "        v_vel[n+1] = v_vel[n] + acel * dt  # t[n+1] - t[n] cte --> tomamos dt\n",
    "        v_x[n+1] = v_x[n] + v_vel[n] * dt\n",
    "        # Potencial de esferas duras\n",
    "        if v_x[n+1] >= l_sup:\n",
    "            v_x[n+1] = l_sup\n",
    "            v_vel[n+1] = - abs(v_vel[n+1])\n",
    "        elif v_x[n+1] <= l_inf:\n",
    "            v_x[n+1] = l_inf\n",
    "            v_vel[n+1] = abs(v_vel[n+1])\n",
    "    return v_x, v_vel"
   ]
  },
  {
   "cell_type": "code",
   "execution_count": 259,
   "metadata": {
    "scrolled": false
   },
   "outputs": [],
   "source": [
    "# Solucionamos la Ecuación Diferencial\n",
    "x, v = odeEuler(Langevin, v0, x0, t)\n",
    "\n",
    "# Plot\n",
    "x_list = list()\n",
    "v_list = list()\n",
    "for j in np.ndenumerate(x):\n",
    "#     print(j[1], v[j[0][0]])\n",
    "    x_list.append(j[1])\n",
    "    v_list.append(v[j[0][0]])\n"
   ]
  },
  {
   "cell_type": "code",
   "execution_count": 260,
   "metadata": {
    "scrolled": false
   },
   "outputs": [
    {
     "data": {
      "image/png": "[encoded data removed]",
      "text/plain": [
       "<Figure size 432x288 with 1 Axes>"
      ]
     },
     "metadata": {
      "needs_background": "light"
     },
     "output_type": "display_data"
    }
   ],
   "source": [
    "# Plot Results\n",
    "plt.scatter(t,x_list,label=\"posición\")\n",
    "# plt.plot(t,x_list,label=\"posición\")\n",
    "# plt.scatter(t,x_list,label=\"posición\")\n",
    "# plt.plot(t,v_list,label=\"velocidad\")\n",
    "plt.hlines(l_sup,t_i,t_f,color ='g')\n",
    "plt.hlines(l_inf,t_i,t_f,color ='m')\n",
    "# plt.ylim([30e-06, 50e-06])\n",
    "plt.legend(loc='best')\n",
    "plt.show()"
   ]
  },
  {
   "cell_type": "code",
   "execution_count": null,
   "metadata": {},
   "outputs": [],
   "source": []
  }
 ],
 "metadata": {
  "kernelspec": {
   "display_name": "Python 3",
   "language": "python",
   "name": "python3"
  },
  "language_info": {
   "codemirror_mode": {
    "name": "ipython",
    "version": 3
   },
   "file_extension": ".py",
   "mimetype": "text/x-python",
   "name": "python",
   "nbconvert_exporter": "python",
   "pygments_lexer": "ipython3",
   "version": "3.8.5"
  }
 },
 "nbformat": 4,
 "nbformat_minor": 2
}
